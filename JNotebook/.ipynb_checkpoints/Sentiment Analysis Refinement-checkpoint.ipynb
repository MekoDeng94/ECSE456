{
 "cells": [
  {
   "cell_type": "markdown",
   "metadata": {},
   "source": [
    "The purpose of this notebook is to refine the sentiment analysis of a given article"
   ]
  },
  {
   "cell_type": "code",
   "execution_count": 7,
   "metadata": {},
   "outputs": [
    {
     "ename": "ModuleNotFoundError",
     "evalue": "No module named 'vader_sentiment'",
     "output_type": "error",
     "traceback": [
      "\u001b[1;31m---------------------------------------------------------------------------\u001b[0m",
      "\u001b[1;31mModuleNotFoundError\u001b[0m                       Traceback (most recent call last)",
      "\u001b[1;32m<ipython-input-7-1fa1b02658ca>\u001b[0m in \u001b[0;36m<module>\u001b[1;34m()\u001b[0m\n\u001b[0;32m      2\u001b[0m \u001b[1;32mfrom\u001b[0m \u001b[0mnewspaper\u001b[0m \u001b[1;32mimport\u001b[0m \u001b[0mArticle\u001b[0m\u001b[1;33m\u001b[0m\u001b[0m\n\u001b[0;32m      3\u001b[0m \u001b[1;32mfrom\u001b[0m \u001b[0mnltk\u001b[0m\u001b[1;33m.\u001b[0m\u001b[0msentiment\u001b[0m\u001b[1;33m.\u001b[0m\u001b[0mvader\u001b[0m \u001b[1;32mimport\u001b[0m \u001b[0mSentimentIntensityAnalyzer\u001b[0m\u001b[1;33m\u001b[0m\u001b[0m\n\u001b[1;32m----> 4\u001b[1;33m \u001b[1;32mfrom\u001b[0m \u001b[0mvader_sentiment\u001b[0m \u001b[1;32mimport\u001b[0m \u001b[0mget_vader_sentiment\u001b[0m\u001b[1;33m\u001b[0m\u001b[0m\n\u001b[0m\u001b[0;32m      5\u001b[0m \u001b[1;33m\u001b[0m\u001b[0m\n\u001b[0;32m      6\u001b[0m \u001b[1;31m# print(sys.path)\u001b[0m\u001b[1;33m\u001b[0m\u001b[1;33m\u001b[0m\u001b[0m\n",
      "\u001b[1;31mModuleNotFoundError\u001b[0m: No module named 'vader_sentiment'"
     ]
    }
   ],
   "source": [
    "import sys\n",
    "from newspaper import Article\n",
    "from nltk.sentiment.vader import SentimentIntensityAnalyzer\n",
    "from manipulation.vader_sentiment import get_vader_sentiment\n",
    "\n",
    "# print(sys.path)\n",
    "# sys.path.insert(0, '/')\n",
    "# print(sys.path)\n",
    "\n",
    "#for 14/09/2018\n",
    "list_of_articles = [\n",
    "    \"https://www.marketwatch.com/story/amd-stock-gains-after-argus-hikes-target-to-40-2018-09-14\",\n",
    "    \"https://www.onmsft.com/news/amd-and-microsoft-are-working-on-the-next-xbox-console-together\",\n",
    "    \"https://www.forbes.com/sites/greatspeculations/2018/09/14/keys-to-amds-continued-growth/\",\n",
    "    \"https://globenewswire.com/news-release/2018/09/14/1570996/0/en/Opthea-Presents-Phase-1-2a-Data-of-OPT-302-in-wet-AMD-at-the-Retina-Society-2018-Annual-Meeting.html\",\n",
    "    \"https://www.investopedia.com/news/amds-stock-seen-plunging-over-20-short-term/\",\n",
    "    \"https://www.pcgamer.com/build-it-a-high-end-amd-ryzen-2-rig/\",\n",
    "    \"http://www.tomshardware.com/answers/id-3784818/amd-radeon-8750m-gpu-performance.html\",\n",
    "    \"https://www.investors.com/market-trend/stock-market-today/stock-futures-tech-stocks-chip-stocks/\",\n",
    "    \"http://www.tomshardware.com/answers/id-3784668/amd-driver-update-recommends-optional-update.html\",\n",
    "    \"https://www.pcgamer.com/save-dollar70-on-this-amd-ryzen-5-2600-cpu-and-msi-x470-motherboard-bundle/\",\n",
    "    \"https://www.nasdaq.com/article/technology-sector-update-for-09142018-nvdadocuamdlplaapl-cm1023223\",\n",
    "    \"https://www.tasnimnews.com/en/news/2018/09/14/1828192/amd-working-on-next-gen-consoles-with-cooperation-of-sony-microsoft\",\n",
    "    \"http://www.tomshardware.com/answers/id-3784914/activate-amd-turbo.html\",\n",
    "    \"https://www.fool.com/investing/2018/09/14/why-l-brands-owens-illinois-and-advanced-micro-dev.aspx\",\n",
    "    \"https://news.am/eng/news/471082.html\",\n",
    "    \"https://gnd-tech.com/2018/09/amd-to-provide-early-support-for-pcie-4-0/\",\n",
    "    \"https://www.notebookcheck.net/Intel-Core-i9-9900K-s-leaked-Cinebench-score-shows-strong-multi-core-performance-at-5-GHz.331616.0.html\",\n",
    "    \"https://www.extremetech.com/computing/276976-intel-marvell-qualcomm-pledge-support-for-glow-ai-compiler\",\n",
    "    \"https://www.investors.com/news/technology/nvidia-artificial-intelligence-wintel/\",\n",
    "    \"https://www.marketwatch.com/story/stocks-could-get-much-more-highly-priced-on-the-trump-story-says-robert-shiller-2018-09-14\",\n",
    "    \"https://www.investors.com/market-trend/stock-market-today/nasdaq-tariff-plan-china-growth-stock-breaks-out/\"\n",
    "]"
   ]
  },
  {
   "cell_type": "code",
   "execution_count": 32,
   "metadata": {},
   "outputs": [],
   "source": [
    "new_words = {\n",
    "    'crash': -4,\n",
    "    'rise': 2.6,\n",
    "    'rising': 3.0\n",
    "}\n",
    "\n",
    "SIA = SentimentIntensityAnalyzer()\n",
    "\n",
    "SIA.lexicon.update(new_words)"
   ]
  },
  {
   "cell_type": "code",
   "execution_count": 33,
   "metadata": {},
   "outputs": [],
   "source": [
    "count = 0\n",
    "Article_sentences = []\n",
    "for link in list_of_articles:\n",
    "    if count == 3:\n",
    "        break\n",
    "    else:\n",
    "        count += 1\n",
    "        article = Article(link)\n",
    "        try:\n",
    "            article.download()\n",
    "            article.parse()\n",
    "            text = article.text\n",
    "            AMD_mention_sentences = [sentence + '.' for sentence in text.replace('\\n','').split('.') if 'AMD' in sentence]\n",
    "            \n",
    "            Article_sentences.append(AMD_mention_sentences)\n",
    "        except Exception as e:\n",
    "            pass"
   ]
  },
  {
   "cell_type": "code",
   "execution_count": 34,
   "metadata": {},
   "outputs": [
    {
     "name": "stdout",
     "output_type": "stream",
     "text": [
      "[[' AMD, +4.', ' \"We believe that AMD is well positioned to step in given the positive reception of its Ryzen products and Intel\\'s supply shortages,\" he wrote.', \" For that reason, we believe that investors may be underestimating AMD's revenue and earnings power, not just for 2018 but for 2019 and beyond.\", '\" AMD shares have been on a tear in recent weeks, rising 88% over the past three months.'], ['PCGames is reporting an interview between AMD CEO Dr.', 'Su confirmed that AMD will be the preferred chipset maker for both Sony and Microsoft’s next console endeavors, continuing an ongoing partnership with Microsoft’s Xbox division.', 'While Su didn’t specifically say that AMD would power both Microsoft hardware options, she did hint that AMD and the Xbox team are looking closely at the cloud for next-gen gaming.', 'With Microsoft’s ambitious lighter weight cloud powered console looking to AMD to provide the brains for the device, this could shift the way gaming on consoles and PC devices are done, for years to come.', 'Further reading: AMD.'], ['AMD (NYSE:AMD) generates its revenues from its Computing & Graphics, and the Enterprise, Embedded & Semi-Custom businesses.', ' The Computing & Graphics business includes AMD’s microprocessors, as well as graphics processors (GPUs) that are used in desktops and notebooks.', ' Note that AMD has seen stellar sales growth for its Ryzen products in the recent past, and this trend will likely continue in the near term, and drive the company’s near term earnings growth.', ' We have created an interactive dashboard ~ What Are AMD’s Key Sources of Revenue.', ' Apart from Ryzen, AMD’s Radeon GPUs are also doing well.', ' AMD’s future growth can partly be linked to its 7nm chips, which it plans to roll out in 2019.', 'Expect Enterprise, Embedded & Semi-Custom To See High Single Digit GrowthThe Enterprise, Embedded & Semi-Custom segment includes AMD’s embedded and system-on-chip products, as well as server microprocessors.', ' This can be attributed to AMD’s EPYC processor, which is finding increasing acceptance among corporates.', ' In fact, AMD has signed some significant new deals with large corporates, including Cisco and HP Enterprise, which will help sustain the momentum in its enterprise business.', 'While we forecast strong top line growth for AMD, we maintain our price estimate of $17, which is much lower than the current market price of over $30.', ' AMD’s stock price has been on a stellar run in 2018, and has nearly tripled (year-to-date).', ' In fact, the average target price of AMD is $18 (among 30 analysts), as per the data compiled by The Wall Street Journal.']]\n"
     ]
    }
   ],
   "source": [
    "print(Article_sentences)"
   ]
  },
  {
   "cell_type": "code",
   "execution_count": null,
   "metadata": {},
   "outputs": [],
   "source": []
  }
 ],
 "metadata": {
  "kernelspec": {
   "display_name": "Python 3",
   "language": "python",
   "name": "python3"
  },
  "language_info": {
   "codemirror_mode": {
    "name": "ipython",
    "version": 3
   },
   "file_extension": ".py",
   "mimetype": "text/x-python",
   "name": "python",
   "nbconvert_exporter": "python",
   "pygments_lexer": "ipython3",
   "version": "3.6.5"
  }
 },
 "nbformat": 4,
 "nbformat_minor": 2
}
