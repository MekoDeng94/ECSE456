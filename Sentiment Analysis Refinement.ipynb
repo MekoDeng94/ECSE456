{
 "cells": [
  {
   "cell_type": "markdown",
   "metadata": {},
   "source": [
    "The purpose of this notebook is to refine the sentiment analysis of a given article"
   ]
  },
  {
   "cell_type": "code",
   "execution_count": 27,
   "metadata": {},
   "outputs": [
    {
     "name": "stdout",
     "output_type": "stream",
     "text": [
      "[nltk_data] Downloading package vader_lexicon to\n",
      "[nltk_data]     C:\\Users\\mingh\\AppData\\Roaming\\nltk_data...\n",
      "[nltk_data]   Package vader_lexicon is already up-to-date!\n"
     ]
    }
   ],
   "source": [
    "import nltk\n",
    "from newspaper import Article\n",
    "from nltk.sentiment.vader import SentimentIntensityAnalyzer\n",
    "from manipulation.vader_sentiment import get_vader_sentiment\n",
    "\n",
    "nltk.download('vader_lexicon')\n",
    "\n",
    "#for 14/09/2018\n",
    "list_of_articles = [\n",
    "    \"https://www.marketwatch.com/story/amd-stock-gains-after-argus-hikes-target-to-40-2018-09-14\",\n",
    "    \"https://www.onmsft.com/news/amd-and-microsoft-are-working-on-the-next-xbox-console-together\",\n",
    "    \"https://www.forbes.com/sites/greatspeculations/2018/09/14/keys-to-amds-continued-growth/\",\n",
    "    \"https://globenewswire.com/news-release/2018/09/14/1570996/0/en/Opthea-Presents-Phase-1-2a-Data-of-OPT-302-in-wet-AMD-at-the-Retina-Society-2018-Annual-Meeting.html\",\n",
    "    \"https://www.investopedia.com/news/amds-stock-seen-plunging-over-20-short-term/\",\n",
    "    \"https://www.pcgamer.com/build-it-a-high-end-amd-ryzen-2-rig/\",\n",
    "    \"http://www.tomshardware.com/answers/id-3784818/amd-radeon-8750m-gpu-performance.html\",\n",
    "    \"https://www.investors.com/market-trend/stock-market-today/stock-futures-tech-stocks-chip-stocks/\",\n",
    "    \"http://www.tomshardware.com/answers/id-3784668/amd-driver-update-recommends-optional-update.html\",\n",
    "    \"https://www.pcgamer.com/save-dollar70-on-this-amd-ryzen-5-2600-cpu-and-msi-x470-motherboard-bundle/\",\n",
    "    \"https://www.nasdaq.com/article/technology-sector-update-for-09142018-nvdadocuamdlplaapl-cm1023223\",\n",
    "    \"https://www.tasnimnews.com/en/news/2018/09/14/1828192/amd-working-on-next-gen-consoles-with-cooperation-of-sony-microsoft\",\n",
    "    \"http://www.tomshardware.com/answers/id-3784914/activate-amd-turbo.html\",\n",
    "    \"https://www.fool.com/investing/2018/09/14/why-l-brands-owens-illinois-and-advanced-micro-dev.aspx\",\n",
    "    \"https://news.am/eng/news/471082.html\",\n",
    "    \"https://gnd-tech.com/2018/09/amd-to-provide-early-support-for-pcie-4-0/\",\n",
    "    \"https://www.notebookcheck.net/Intel-Core-i9-9900K-s-leaked-Cinebench-score-shows-strong-multi-core-performance-at-5-GHz.331616.0.html\",\n",
    "    \"https://www.extremetech.com/computing/276976-intel-marvell-qualcomm-pledge-support-for-glow-ai-compiler\",\n",
    "    \"https://www.investors.com/news/technology/nvidia-artificial-intelligence-wintel/\",\n",
    "    \"https://www.marketwatch.com/story/stocks-could-get-much-more-highly-priced-on-the-trump-story-says-robert-shiller-2018-09-14\",\n",
    "    \"https://www.investors.com/market-trend/stock-market-today/nasdaq-tariff-plan-china-growth-stock-breaks-out/\"\n",
    "]"
   ]
  },
  {
   "cell_type": "code",
   "execution_count": 43,
   "metadata": {},
   "outputs": [
    {
     "name": "stdout",
     "output_type": "stream",
     "text": [
      "{'improves': 0, 'gain': 0, 'fluctuation': 0, 'discontinue': 0, 'statutes': 0, 'thereunto': 0, 'risky': 0, 'fluctuates': 0, 'subrogation': 0, 'negatively': 0, 'lose': 0, 'attorney': 0, 'revised': 0, 'could': 0, 'exposure': 0, 'dependent': 0, 'will': 0, 'contracts': 0, 'failure': 0, 'risk': 0, 'easily': 0, 'proficiency': 0, 'supersedes': 0, 'accession': 0, 'duly': 0, 'may': 0, 'remedied': 0, 'variable': 0, 'unenforceable': 0, 'risks': 0, 'unresolved': 0, 'variations': 0, 'courts': 0, 'problem': 0, 'varied': 0, 'hereby': 0, 'predict': 0, 'favorable': 0, 'vulnerability': 0, 'claims': 0, 'alteration': 0, 'discontinuing': 0, 'bankruptcy': 0, 'depending': 0, 'attaining': 0, 'omissions': 0, 'correcting': 0}\n"
     ]
    }
   ],
   "source": [
    "# words='IMPROVES, GAIN, FLUCTUATION, DISCONTINUE, STATUTES,THEREUNTO, RISKY, RISKY, FLUCTUATES, SUBROGATION,NEGATIVELY, LOSE, ATTORNEY, REVISED, COULD, EXPOSURE,DEPENDENT, WILL, CONTRACTS, FAILURE, RISK, EASILY,PROFICIENCY, SUPERSEDES, ACCESSION, DULY, MAY,REMEDIED, VARIABLE, UNENFORCEABLE, RISKS, UNRESOLVED,VARIATIONS, COURTS, PROBLEM, VARIED, HEREBY, PREDICT,FAVORABLE, VULNERABILITY, CLAIMS, ALTERATION,DISCONTINUING, BANKRUPTCY, DEPENDING, DEPENDING,ATTAINING, OMISSIONS, CORRECTING'\n",
    "# value=0\n",
    "\n",
    "# words_list=words.split(',')\n",
    "# final_dict={}\n",
    "# for word in words_list:\n",
    "#     lowercase = word.lower().strip(' ')\n",
    "#     d = {lowercase:value}\n",
    "#     final_dict.update(d)\n",
    "\n",
    "# print(final_dict)"
   ]
  },
  {
   "cell_type": "code",
   "execution_count": 52,
   "metadata": {},
   "outputs": [],
   "source": [
    "# using https://www.forbes.com/sites/katinastefanova/2015/12/21/50-words-in-earnings-reports-that-mean-a-plumeting-stock-price/#33f0fc556ac9\n",
    "new_words = {\n",
    "    'recalculate': -4, 'testify': -4, 'questionable': -4, 'impeded': -4, 'exacerbate': -4, 'overstatement': -4, 'slander': -4, 'nonperforming': -4, 'unfounded': -4, 'worst': -4, 'illicit': -4, 'renegotiate': -4, 'manipulate': -4, 'disturbing': -4, 'circumvent': -4, 'prejudiced': -4, 'apparently': -4, 'frivolous': -4, 'reject': -4, 'protested': -4, 'rejects': -4, 'downsized': -4, 'grievance': -4, 'refile': -4, 'dissenting': -4, 'foreclosed': -4, 'gratuitous': -4, 'unpredicted': -4, 'misapplication': -4, 'closeout': -4, 'collaborates': -4, 'obligee': -4, 'dissenters': -4, 'forego': -4, 'writs': -4, 'pledgors': -4, 'precipitated': -4, 'idled': -4, 'suggests': -4, 'bailee': -4, 'friendly': -4, 'arbitral': -4, 'breakthroughs': -4, 'favoring': -4, 'certiorari': -4, 'persists': -4, 'adjournments': -4, 'ignoring': -4,\n",
    "    'unmatched': 4, 'outperform': 4, 'voided': 4, 'confident': 4, 'rewarded': 4, 'prosperity': 4, 'discrepancy': 4, 'rectification': 4, 'critically': 4, 'forfeitable': 4, 'arbitrary': 4, 'turmoil': 4, 'imbalance': 4, 'progresses': 4, 'antecedent': 4, 'overcharged': 4, 'duress': 4, 'manipulation': 4, 'distressed': 4, 'dissolutions': 4, 'hazard': 4, 'expropriation': 4, 'understate': 4, 'unfit': 4, 'pleadings': 4, 'investigated': 4, 'sometime': 4, 'encroachment': 4, 'misstate': 4, 'mutandis': 4, 'defraud': 4, 'undefined': 4, 'delisting': 4, 'forfeits': 4, 'uncovers': 4, 'malpractice': 4, 'presumes': 4, 'grantors': 4, 'collapsing': 4, 'falsely': 4, 'unsound': 4, 'rejections': 4, 'whereabouts': 4, 'damaging': 4, 'reassignment': 4, 'distracting': 4, 'disapproved': 4, 'stagnant': 4, 'predeceases': 4, 'unsafe': 4,\n",
    "    'improves': 0, 'gain': 0, 'fluctuation': 0, 'discontinue': 0, 'statutes': 0, 'thereunto': 0, 'risky': 0, 'fluctuates': 0, 'subrogation': 0, 'negatively': 0, 'lose': 0, 'attorney': 0, 'revised': 0, 'could': 0, 'exposure': 0, 'dependent': 0, 'will': 0, 'contracts': 0, 'failure': 0, 'risk': 0, 'easily': 0, 'proficiency': 0, 'supersedes': 0, 'accession': 0, 'duly': 0, 'may': 0, 'remedied': 0, 'variable': 0, 'unenforceable': 0, 'risks': 0, 'unresolved': 0, 'variations': 0, 'courts': 0, 'problem': 0, 'varied': 0, 'hereby': 0, 'predict': 0, 'favorable': 0, 'vulnerability': 0, 'claims': 0, 'alteration': 0, 'discontinuing': 0, 'bankruptcy': 0, 'depending': 0, 'attaining': 0, 'omissions': 0, 'correcting': 0,\n",
    "    'rising':4,'rise':4,'well positioned':4,'grow':4,'growth':4\n",
    "}\n",
    "\n",
    "analyzer = SentimentIntensityAnalyzer()\n",
    "\n",
    "analyzer.lexicon.update(new_words)"
   ]
  },
  {
   "cell_type": "code",
   "execution_count": 56,
   "metadata": {},
   "outputs": [],
   "source": [
    "count = 0\n",
    "Article_sentences = []\n",
    "for link in list_of_articles:\n",
    "    if count == 5:\n",
    "        break\n",
    "    else:\n",
    "        count += 1\n",
    "        article = Article(link)\n",
    "        try:\n",
    "            article.download()\n",
    "            article.parse()\n",
    "            text = article.text\n",
    "            AMD_mention_sentences = [sentence + '.' for sentence in text.replace('\\n','').split('.') if 'AMD' in sentence]\n",
    "            \n",
    "            Article_sentences.append(AMD_mention_sentences)\n",
    "        except Exception as e:\n",
    "            pass"
   ]
  },
  {
   "cell_type": "code",
   "execution_count": 57,
   "metadata": {},
   "outputs": [
    {
     "name": "stdout",
     "output_type": "stream",
     "text": [
      "[[' AMD, +4.', ' \"We believe that AMD is well positioned to step in given the positive reception of its Ryzen products and Intel\\'s supply shortages,\" he wrote.', \" For that reason, we believe that investors may be underestimating AMD's revenue and earnings power, not just for 2018 but for 2019 and beyond.\", '\" AMD shares have been on a tear in recent weeks, rising 88% over the past three months.'], ['PCGames is reporting an interview between AMD CEO Dr.', 'Su confirmed that AMD will be the preferred chipset maker for both Sony and Microsoft’s next console endeavors, continuing an ongoing partnership with Microsoft’s Xbox division.', 'While Su didn’t specifically say that AMD would power both Microsoft hardware options, she did hint that AMD and the Xbox team are looking closely at the cloud for next-gen gaming.', 'With Microsoft’s ambitious lighter weight cloud powered console looking to AMD to provide the brains for the device, this could shift the way gaming on consoles and PC devices are done, for years to come.', 'Further reading: AMD.'], ['AMD (NYSE:AMD) generates its revenues from its Computing & Graphics, and the Enterprise, Embedded & Semi-Custom businesses.', ' The Computing & Graphics business includes AMD’s microprocessors, as well as graphics processors (GPUs) that are used in desktops and notebooks.', ' Note that AMD has seen stellar sales growth for its Ryzen products in the recent past, and this trend will likely continue in the near term, and drive the company’s near term earnings growth.', ' We have created an interactive dashboard ~ What Are AMD’s Key Sources of Revenue.', ' Apart from Ryzen, AMD’s Radeon GPUs are also doing well.', ' AMD’s future growth can partly be linked to its 7nm chips, which it plans to roll out in 2019.', 'Expect Enterprise, Embedded & Semi-Custom To See High Single Digit GrowthThe Enterprise, Embedded & Semi-Custom segment includes AMD’s embedded and system-on-chip products, as well as server microprocessors.', ' This can be attributed to AMD’s EPYC processor, which is finding increasing acceptance among corporates.', ' In fact, AMD has signed some significant new deals with large corporates, including Cisco and HP Enterprise, which will help sustain the momentum in its enterprise business.', 'While we forecast strong top line growth for AMD, we maintain our price estimate of $17, which is much lower than the current market price of over $30.', ' AMD’s stock price has been on a stellar run in 2018, and has nearly tripled (year-to-date).', ' In fact, the average target price of AMD is $18 (among 30 analysts), as per the data compiled by The Wall Street Journal.'], [' 14, 2018 (GLOBE NEWSWIRE) -- Opthea Limited (ASX:OPT), a late stage clinical biopharmaceutical company developing first-in-class novel biologic therapies to treat back-of-the-eye diseases, announced today that new clinical data analysis from its completed Phase 1/2a trial of intravitreally injected OPT-302 with and without Lucentis® (ranibizumab) for the treatment of wet AMD was presented at the Retina Society 2018 Annual meeting in San Francisco, CA.', ' Wells MD, a study investigator and retinal specialist at the Palmetto Retina Center in Columbia, South Carolina, included the pharmacokinetic (PK) profile of OPT-302, proportion of wet AMD subjects gaining vision, and the need for anti-VEGF-A rescue therapy.', 'Dr Wells commented, “While the current standard of care most commonly used to treat patients with wet AMD is use of intravitreal anti-VEGF-A agents, there is still a significant unmet need in this large patient population.', ' These initial Phase 1/2a trial results suggest that dual targeting of VEGF-C/D with OPT-302 and VEGF-A with standard of care agents is a promising strategy to treat wet AMD and other retinal vascular diseases.', ' I am looking forward to the outcomes from the Phase 2 studies with OPT-302 that are currently ongoing in wet AMD and diabetic macular edema in larger populations of patients.', ' “As such, we are actively recruiting patients for our two international, multicentre Phase 2 trials currently underway to further assess the potential clinical application of OPT-302 in patients with newly diagnosed wet AMD and those with persistent diabetic macular edema despite prior anti-VEGF-A therapy.', 'comAdditional information on Opthea’s technology and clinical trials in wet AMD and diabetic macular edema (DME) can found at www.', 'Opthea has completed a Phase 1/2a clinical trial in the US investigating OPT-302 wet AMD patients as a monotherapy and in combination with Lucentis®.', ' The purpose of the trial was to evaluate the safety, pharmacokinetics (PK) and pharmacodynamics of OPT-302 administered as monthly intravitreal injections for 3 months with and without Lucentis® in patients with wet age related macular degeneration (AMD).', 'comAbout Wet AMD and DMEWet (neovascular) age-related macular degeneration, or wet AMD, is a disease characterised by the loss of vision of the middle of the visual field caused by degeneration of the central portion of the retina (the macula).', ' Wet AMD is the leading cause of blindness in the developed world in individuals aged 50 years or older.', ' The prevalence of AMD is increasing annually as the population ages.', ' Without treatment, wet AMD patients often experience a chronic, rapid decline in visual acuity and increase in retinal fluid.', 'Existing standard of care treatments for DME and wet AMD include agents that inhibit VEGF-A, but not VEGF-C or VEGF-D.', ' Opthea’s product development programs are focused on developing OPT-302 (formerly VGX-300, soluble VEGFR-3) for ‘back of the eye’ disease such as wet age-related macular degeneration (wet AMD) and diabetic macular edema (DME).'], [' (AMD) have soared three-fold since April.', ' But this time may be different, and the pullback may lead to a longer-term rise if AMD is able to achieve its growth plans.', 'Momentum Leaving The StockShares of AMD surged to nearly $34.', \"Troubling SignsThis is not the first time AMD's stock has seen a parabolic rise, happening in the year 2000 and 2006.\", 'AMD Annual Revenue Estimates data by YChartsRevenue Growth May Not Be EnoughRevenue is forecast to grow by 26 percent this year to $6.', \" As always with AMD's stock, option trades indicate huge volatility in coming weeks.\"]]\n"
     ]
    }
   ],
   "source": [
    "print(Article_sentences)"
   ]
  },
  {
   "cell_type": "code",
   "execution_count": 58,
   "metadata": {},
   "outputs": [
    {
     "name": "stdout",
     "output_type": "stream",
     "text": [
      "[{'neg': 0.0, 'neu': 1.0, 'pos': 0.0, 'compound': 0.0}, {'neg': 0.0, 'neu': 0.794, 'pos': 0.206, 'compound': 0.6908}, {'neg': 0.0, 'neu': 1.0, 'pos': 0.0, 'compound': 0.0}, {'neg': 0.0, 'neu': 0.66, 'pos': 0.34, 'compound': 0.802}]\n",
      "[{'neg': 0.0, 'neu': 1.0, 'pos': 0.0, 'compound': 0.0}, {'neg': 0.0, 'neu': 1.0, 'pos': 0.0, 'compound': 0.0}, {'neg': 0.0, 'neu': 1.0, 'pos': 0.0, 'compound': 0.0}, {'neg': 0.0, 'neu': 0.916, 'pos': 0.084, 'compound': 0.4767}, {'neg': 0.0, 'neu': 1.0, 'pos': 0.0, 'compound': 0.0}]\n",
      "[{'neg': 0.0, 'neu': 1.0, 'pos': 0.0, 'compound': 0.0}, {'neg': 0.0, 'neu': 0.9, 'pos': 0.1, 'compound': 0.2732}, {'neg': 0.0, 'neu': 0.86, 'pos': 0.14, 'compound': 0.6369}, {'neg': 0.0, 'neu': 0.857, 'pos': 0.143, 'compound': 0.25}, {'neg': 0.0, 'neu': 0.811, 'pos': 0.189, 'compound': 0.2732}, {'neg': 0.0, 'neu': 0.874, 'pos': 0.126, 'compound': 0.3818}, {'neg': 0.0, 'neu': 0.92, 'pos': 0.08, 'compound': 0.2732}, {'neg': 0.0, 'neu': 0.824, 'pos': 0.176, 'compound': 0.4588}, {'neg': 0.0, 'neu': 0.847, 'pos': 0.153, 'compound': 0.5423}, {'neg': 0.065, 'neu': 0.708, 'pos': 0.227, 'compound': 0.6705}, {'neg': 0.0, 'neu': 1.0, 'pos': 0.0, 'compound': 0.0}, {'neg': 0.0, 'neu': 1.0, 'pos': 0.0, 'compound': 0.0}]\n",
      "[{'neg': 0.028, 'neu': 0.897, 'pos': 0.075, 'compound': 0.4767}, {'neg': 0.0, 'neu': 0.766, 'pos': 0.234, 'compound': 0.8442}, {'neg': 0.0, 'neu': 0.762, 'pos': 0.238, 'compound': 0.8271}, {'neg': 0.0, 'neu': 0.777, 'pos': 0.223, 'compound': 0.8225}, {'neg': 0.0, 'neu': 1.0, 'pos': 0.0, 'compound': 0.0}, {'neg': 0.0, 'neu': 0.948, 'pos': 0.052, 'compound': 0.3182}, {'neg': 0.0, 'neu': 1.0, 'pos': 0.0, 'compound': 0.0}, {'neg': 0.0, 'neu': 1.0, 'pos': 0.0, 'compound': 0.0}, {'neg': 0.0, 'neu': 0.926, 'pos': 0.074, 'compound': 0.4215}, {'neg': 0.056, 'neu': 0.896, 'pos': 0.048, 'compound': -0.0772}, {'neg': 0.0, 'neu': 1.0, 'pos': 0.0, 'compound': 0.0}, {'neg': 0.0, 'neu': 1.0, 'pos': 0.0, 'compound': 0.0}, {'neg': 0.0, 'neu': 0.881, 'pos': 0.119, 'compound': 0.3182}, {'neg': 0.082, 'neu': 0.822, 'pos': 0.096, 'compound': 0.0772}, {'neg': 0.0, 'neu': 0.923, 'pos': 0.077, 'compound': 0.3818}]\n",
      "[{'neg': 0.0, 'neu': 1.0, 'pos': 0.0, 'compound': 0.0}, {'neg': 0.0, 'neu': 0.734, 'pos': 0.266, 'compound': 0.8225}, {'neg': 0.0, 'neu': 1.0, 'pos': 0.0, 'compound': 0.0}, {'neg': 0.132, 'neu': 0.679, 'pos': 0.189, 'compound': 0.3612}, {'neg': 0.0, 'neu': 0.894, 'pos': 0.106, 'compound': 0.3818}, {'neg': 0.0, 'neu': 0.839, 'pos': 0.161, 'compound': 0.3182}]\n"
     ]
    }
   ],
   "source": [
    "for article in Article_sentences:\n",
    "    print([analyzer.polarity_scores(sentence) for sentence in article])"
   ]
  },
  {
   "cell_type": "code",
   "execution_count": null,
   "metadata": {},
   "outputs": [],
   "source": []
  }
 ],
 "metadata": {
  "kernelspec": {
   "display_name": "Python 3",
   "language": "python",
   "name": "python3"
  },
  "language_info": {
   "codemirror_mode": {
    "name": "ipython",
    "version": 3
   },
   "file_extension": ".py",
   "mimetype": "text/x-python",
   "name": "python",
   "nbconvert_exporter": "python",
   "pygments_lexer": "ipython3",
   "version": "3.6.5"
  }
 },
 "nbformat": 4,
 "nbformat_minor": 2
}
